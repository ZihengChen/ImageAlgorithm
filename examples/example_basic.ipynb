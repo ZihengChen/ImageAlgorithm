{
 "cells": [
  {
   "cell_type": "code",
   "execution_count": 4,
   "metadata": {},
   "outputs": [],
   "source": [
    "from ImageAlgoKD.ImageAlgoKD import *\n",
    "from ImageAlgoKD.DataStructure import *"
   ]
  },
  {
   "cell_type": "markdown",
   "metadata": {},
   "source": [
    "## 1. Load Toy Data Points"
   ]
  },
  {
   "cell_type": "code",
   "execution_count": 5,
   "metadata": {},
   "outputs": [
    {
     "data": {
      "text/plain": [
       "[<matplotlib.lines.Line2D at 0x1156d4358>]"
      ]
     },
     "execution_count": 5,
     "metadata": {},
     "output_type": "execute_result"
    }
   ],
   "source": [
    "KERNEL_R = 1\n",
    "\n",
    "points = Points_KDBin(np.genfromtxt(\"../data/basic.csv\",delimiter=','),KERNEL_R)\n",
    "\n",
    "# basic = np.genfromtxt(\"../data/basic.csv\",delimiter=',')\n",
    "# data = basic\n",
    "# for i in range(12):\n",
    "#     theta = 6.26*i/12\n",
    "#     data = np.r_[data,basic+20*np.array([np.cos(theta),np.sin(theta)])]\n",
    "# points = Points_KDBin(data,KERNEL_R)\n",
    "\n",
    "# plot toy points\n",
    "plt.figure(figsize=(4,4),facecolor=\"w\")\n",
    "plt.plot( points.cords[:,0],points.cords[:,1], \".\",alpha=0.5 )"
   ]
  },
  {
   "cell_type": "markdown",
   "metadata": {},
   "source": [
    "## 2. Define Clustering Parameters"
   ]
  },
  {
   "cell_type": "code",
   "execution_count": 6,
   "metadata": {},
   "outputs": [
    {
     "name": "stdout",
     "output_type": "stream",
     "text": [
      "clustering finished!\n",
      "Run time with numpy is 94.9371 ms, in which rho time is 47.5929 ms\n"
     ]
    }
   ],
   "source": [
    "# define clustering parameters\n",
    "ia = ImageAlgoKD(MAXDISTANCE        = 20,\n",
    "                 KERNEL_R           = KERNEL_R,\n",
    "                 KERNEL_R_NORM      = 1.0,\n",
    "                 KERNEL_R_POWER     = 0.0,\n",
    "                 DECISION_RHO_KAPPA = 5.0,\n",
    "                 DECISION_NHD       = 2.0,\n",
    "                 CONTINUITY_NHD     = 2.0)\n",
    "\n",
    "ia.setInputsPoints(points)\n",
    "# run\n",
    "ia.run(\"cudabin\",1,blockSize=64)"
   ]
  },
  {
   "cell_type": "markdown",
   "metadata": {},
   "source": [
    "## 3. Run and Plot Result"
   ]
  },
  {
   "cell_type": "code",
   "execution_count": 7,
   "metadata": {},
   "outputs": [],
   "source": [
    "# plot result\n",
    "plt.figure(figsize=(7,3),facecolor=\"w\")\n",
    "\n",
    "plt.subplot(1,2,1)\n",
    "x,y,slt = ia.points.rho, ia.points.nhd, ia.points.isSeed\n",
    "plt.plot(x,y, \".\")\n",
    "plt.scatter( x[slt], y[slt], marker=\"s\", s=100, facecolors='none', edgecolors=\"k\")\n",
    "\n",
    "plt.axvline(ia.DECISION_RHO,color='k',linestyle=\"--\",linewidth=1)\n",
    "plt.axhline(ia.DECISION_NHD,color='k',linestyle=\"--\",linewidth=1)\n",
    "plt.xlabel(\"Density\")\n",
    "plt.ylabel(\"Separation\")\n",
    "plt.title(\"Decistion Plot\")\n",
    "\n",
    "plt.subplot(1,2,2)\n",
    "for icluster in np.unique(ia.points.clusterID):\n",
    "    sl = ia.points.clusterID==icluster\n",
    "    x,y = ia.points.cords[sl,0],ia.points.cords[sl,1]\n",
    "    plt.plot( x, y, \".\",alpha=0.5)\n",
    "x,y = ia.points.cords[slt,0],ia.points.cords[slt,1]\n",
    "plt.plot( x, y, \"k*\", markersize=10)\n",
    "\n",
    "plt.title(\"Result Plot\")\n",
    "plt.savefig(\"../plots/basic.png\",dpi=300)"
   ]
  },
  {
   "cell_type": "markdown",
   "metadata": {},
   "source": [
    "## 4. Check Opencl and Numpy Gives Consistent Result"
   ]
  },
  {
   "cell_type": "code",
   "execution_count": 5,
   "metadata": {},
   "outputs": [
    {
     "name": "stdout",
     "output_type": "stream",
     "text": [
      "clustering finished!\n",
      "Run time with numpy is 93.8647 ms, in which rho time is 44.3872 ms\n",
      "clustering finished!\n",
      "Run time with numpybin is 111.5155 ms, in which rho time is 48.5085 ms\n",
      "clustering finished!\n",
      "Run time with opencl is 585.9411 ms, in which rho time is 27.5049 ms\n",
      "clustering finished!\n",
      "Run time with openclbin is 38.3578 ms, in which rho time is 12.5599 ms\n"
     ]
    },
    {
     "data": {
      "text/plain": [
       "True"
      ]
     },
     "execution_count": 5,
     "metadata": {},
     "output_type": "execute_result"
    }
   ],
   "source": [
    "ia.run(\"numpy\")\n",
    "id1 = ia.points.clusterID\n",
    "ia.run(\"numpybin\")\n",
    "id2 = ia.points.clusterID\n",
    "\n",
    "# ia.run(\"cuda\",1,blockSize=32)\n",
    "# id3 = ia.points.clusterID\n",
    "# ia.run(\"cudabin\",1,blockSize=32)\n",
    "# id4 = ia.points.clusterID\n",
    "\n",
    "ia.run(\"opencl\",1,blockSize=64)\n",
    "id3 = ia.points.clusterID\n",
    "ia.run(\"openclbin\",1,blockSize=64)\n",
    "id4 = ia.points.clusterID\n",
    "\n",
    "identical = (id1==id2) & (id1==id3) & (id1==id4)\n",
    "identical.all()"
   ]
  },
  {
   "cell_type": "code",
   "execution_count": null,
   "metadata": {
    "collapsed": true
   },
   "outputs": [],
   "source": []
  }
 ],
 "metadata": {
  "kernelspec": {
   "display_name": "Python 3",
   "language": "python",
   "name": "python3"
  },
  "language_info": {
   "codemirror_mode": {
    "name": "ipython",
    "version": 3
   },
   "file_extension": ".py",
   "mimetype": "text/x-python",
   "name": "python",
   "nbconvert_exporter": "python",
   "pygments_lexer": "ipython3",
   "version": "3.6.1"
  }
 },
 "nbformat": 4,
 "nbformat_minor": 2
}
